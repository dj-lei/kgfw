{
 "cells": [
  {
   "cell_type": "code",
   "execution_count": 1,
   "metadata": {},
   "outputs": [],
   "source": [
    "from kgfw.extract.doc_handle import BaseDocxHandle\n",
    "\n",
    "document = BaseDocxHandle('test.docx')\n",
    "data = document.get_docx_structure()\n",
    "# catalog = document.get_catalog()\n",
    "# document.recovery_docx()"
   ]
  },
  {
   "cell_type": "code",
   "execution_count": null,
   "metadata": {},
   "outputs": [],
   "source": []
  },
  {
   "cell_type": "markdown",
   "metadata": {},
   "source": [
    "* 第一项"
   ]
  },
  {
   "cell_type": "code",
   "execution_count": null,
   "metadata": {},
   "outputs": [],
   "source": [
    "temp = []\n",
    "for elm in data['content']:\n",
    "    if elm['type'] == 'image':\n",
    "        temp.append({'content':elm['content']})"
   ]
  },
  {
   "cell_type": "code",
   "execution_count": null,
   "metadata": {
    "scrolled": true
   },
   "outputs": [],
   "source": [
    "from django.http import JsonResponse\n",
    "\n",
    "JsonResponse(temp, safe=False)"
   ]
  },
  {
   "cell_type": "code",
   "execution_count": null,
   "metadata": {},
   "outputs": [],
   "source": [
    "import json\n",
    "\n",
    "with open('result.json', 'w') as result_file:\n",
    "    json.dump(temp, result_file)"
   ]
  },
  {
   "cell_type": "code",
   "execution_count": null,
   "metadata": {},
   "outputs": [],
   "source": [
    "temp"
   ]
  },
  {
   "cell_type": "code",
   "execution_count": null,
   "metadata": {},
   "outputs": [],
   "source": [
    "from kg_extract.doc_handle import BasePptxHandle\n",
    "document = BasePptxHandle('test.pptx')\n",
    "data = document.get_pptx_structure()"
   ]
  },
  {
   "cell_type": "code",
   "execution_count": null,
   "metadata": {
    "scrolled": true
   },
   "outputs": [],
   "source": [
    "import docx\n",
    "from PIL import Image\n",
    "document = docx.Document()\n",
    "from io import BytesIO\n",
    "import io\n",
    "import numpy as np\n",
    "import cv2\n",
    "from docx.shared import Inches\n",
    "\n",
    "pImage = Image.open(BytesIO(bytes(temp)))\n",
    "pImage = pImage.resize((450, 300), Image.ANTIALIAS)\n",
    "# pImage.save('temp.png')\n",
    "\n",
    "# img = cv2.imread(temp)\n",
    "# img = np.array(img)\n",
    "document.add_picture(pImage, width=Inches(2), height=Inches(2))"
   ]
  },
  {
   "cell_type": "code",
   "execution_count": null,
   "metadata": {},
   "outputs": [],
   "source": [
    "from kg_extract.ner import RuNer\n",
    "\n",
    "document = RuNer('en_core_web_sm', 'test.docx')"
   ]
  },
  {
   "cell_type": "code",
   "execution_count": null,
   "metadata": {},
   "outputs": [],
   "source": [
    "data = document.get_sentences_ner()"
   ]
  },
  {
   "cell_type": "code",
   "execution_count": null,
   "metadata": {},
   "outputs": [],
   "source": [
    "proper_nouns = list(pd.read_csv('proper_nouns.csv')['proper_nouns_name'].values)\n",
    "proper_nouns"
   ]
  },
  {
   "cell_type": "code",
   "execution_count": null,
   "metadata": {
    "scrolled": true
   },
   "outputs": [],
   "source": [
    "temp = 'On the downlink path, the Digital Subsystem DU receives information through the Transport Network interface and uses Baseband signal processing to encode the data as IQ modulated digital data to meet the requirements of the antenna interface (AI)'.split(' ')\n",
    "set(proper_nouns).intersection(set(temp))"
   ]
  },
  {
   "cell_type": "code",
   "execution_count": null,
   "metadata": {},
   "outputs": [],
   "source": [
    "data.to_csv('./man.csv',index=False)"
   ]
  },
  {
   "cell_type": "code",
   "execution_count": null,
   "metadata": {},
   "outputs": [],
   "source": [
    "from kg_process.es import Ru_es\n",
    "\n",
    "es = Ru_es(\"http://localhost:7474\",auth=(\"neo4j\",\"test\"))\n",
    "es.insert()"
   ]
  },
  {
   "cell_type": "code",
   "execution_count": null,
   "metadata": {},
   "outputs": [],
   "source": [
    "es.insert()"
   ]
  },
  {
   "cell_type": "code",
   "execution_count": null,
   "metadata": {},
   "outputs": [],
   "source": [
    "from datetime import datetime\n",
    "from elasticsearch import Elasticsearch\n",
    "es = Elasticsearch([{'host':'localhost','port':9200}])\n",
    "\n",
    "doc = {\n",
    "    's': '',\n",
    "    'p': '',\n",
    "    'o': '',\n",
    "    'key_words': [],\n",
    "    'timestamp': datetime.now(),\n",
    "}\n",
    "# res = es.index(index=\"test-index\", id=1, body=doc)\n",
    "# print(res['result'])"
   ]
  },
  {
   "cell_type": "code",
   "execution_count": null,
   "metadata": {},
   "outputs": [],
   "source": [
    "graph_data = pd.read_csv('man.csv')\n",
    "for i in range(0, len(graph_data)):\n",
    "    doc['s'] = graph_data['s'][i]\n",
    "    doc['p'] = graph_data['p'][i]\n",
    "    doc['o'] = graph_data['o'][i]\n",
    "    doc['key_words'] = eval(graph_data['key_words'][i])\n",
    "    doc['timestamp'] = datetime.now()\n",
    "    es.index(index=\"doc\", doc_type='Radio Application Architecture Description', body=doc)"
   ]
  },
  {
   "cell_type": "code",
   "execution_count": null,
   "metadata": {},
   "outputs": [],
   "source": [
    "# res = es.get(index=\"test-index\", id=1)\n",
    "# print(res['_source'])\n",
    "\n",
    "# es.indices.refresh(index=\"test-index\")\n",
    "\n",
    "res = es.search(index=\"doc\", doc_type='Radio Application Architecture Description', \n",
    "                body={\n",
    "                        \"query\": {\n",
    "                            \"match\": {\n",
    "                                \"o\": {      \n",
    "                                    \"query\":    \"RBS 3GPP\",\n",
    "                                    \"operator\": \"and\"\n",
    "                                }\n",
    "                            }\n",
    "                        }\n",
    "                    }\n",
    "               )\n",
    "# print(\"Got %d Hits:\" % res['hits']['total']['value'])\n",
    "# for hit in res['hits']['hits']:\n",
    "#     print(\"%(timestamp)s %(author)s: %(text)s\" % hit[\"_source\"])"
   ]
  },
  {
   "cell_type": "code",
   "execution_count": null,
   "metadata": {
    "scrolled": false
   },
   "outputs": [],
   "source": [
    "import numpy as np\n",
    "import matplotlib.pyplot as plt  \n",
    "from PIL import Image\n",
    "import cv2 \n",
    "\n",
    "image = cv2.imread('image3.jpg',0)\n",
    "image = cv2.Laplacian(image,cv2.CV_64F)\n",
    "# plt.hist(img.ravel(),256,[0,256]); plt.show()\n",
    "# clahe = cv2.createCLAHE(clipLimit=1.0, tileGridSize=(4,4))\n",
    "# image = clahe.apply(img)\n",
    "\n",
    "(origH, origW) = image.shape[:2]\n",
    "(newW, newH) = (int(origW*1.5), int(origH*1.5))\n",
    "image = cv2.resize(image, (newW, newH))\n",
    "\n",
    "# ret,image = cv2.threshold(image,40,255,cv2.THRESH_BINARY)\n",
    "\n",
    "# gray = cv2.cvtColor(image, cv2.COLOR_BGR2GRAY)\n",
    "# dst = 255 - gray\n",
    "# cv2.imshow('dst', dst)\n",
    "\n",
    "plt.hist(image.ravel(),256,[0,256]); plt.show()\n",
    "\n",
    "plt.rcParams['figure.figsize'] = (newW/100, newH/100) # 设置figure_size尺寸\n",
    "plt.rcParams['figure.dpi'] = 100 #分辨率\n",
    "\n",
    "plt.imshow(image)"
   ]
  },
  {
   "cell_type": "code",
   "execution_count": null,
   "metadata": {},
   "outputs": [],
   "source": [
    "img"
   ]
  },
  {
   "cell_type": "code",
   "execution_count": null,
   "metadata": {},
   "outputs": [],
   "source": [
    "import matplotlib.pyplot as plt  \n",
    "from PIL import Image\n",
    "import cv2\n",
    "\n",
    "image = cv2.imread('image3.jpg')\n",
    "\n",
    "# By default OpenCV stores images in BGR format and since pytesseract assumes RGB format,\n",
    "# we need to convert from BGR to RGB format/mode:\n",
    "image = cv2.cvtColor(image, cv2.COLOR_BGR2RGB)\n",
    "\n",
    "(origH, origW) = image.shape[:2]\n",
    "(newW, newH) = (int(origW*1.5), int(origH*1.5))\n",
    "image = cv2.resize(image, (newW, newH))\n",
    "\n",
    "plt.rcParams['figure.figsize'] = (newW/100, newH/100) # 设置figure_size尺寸\n",
    "plt.rcParams['figure.dpi'] = 100 #分辨率\n",
    "\n",
    "plt.imshow(image)"
   ]
  },
  {
   "cell_type": "code",
   "execution_count": null,
   "metadata": {},
   "outputs": [],
   "source": [
    "from kg_extract.code_handle import CPPCodeHandle\n",
    "\n",
    "cpp = CPPCodeHandle()"
   ]
  },
  {
   "cell_type": "code",
   "execution_count": null,
   "metadata": {},
   "outputs": [],
   "source": [
    "data = cpp.get_header_file_architecture('rxCarrierEvent.h')"
   ]
  },
  {
   "cell_type": "code",
   "execution_count": null,
   "metadata": {},
   "outputs": [],
   "source": [
    "import re\n",
    "cut_symbols = \"[\\*\\/\\\\r\\\\n]\"\n",
    "temp = '/**\\r\\n * Used in the API towards the RX module for carrier Mcb Switch.\\r\\n * It contains the necessary info for a carrier Mcb Switch.\\r\\n */'\n",
    "re.sub(cut_symbols,'',temp).strip().replace('  ',' ')"
   ]
  },
  {
   "cell_type": "code",
   "execution_count": null,
   "metadata": {},
   "outputs": [],
   "source": [
    "temp = \"<SourceLocation file 'rxCarrierEvent.h', line 159, column 32>\"\n",
    "a,b,c = re.findall('\\'(.*?)\\', line (\\d+), column (\\d+)', temp)[0]"
   ]
  },
  {
   "cell_type": "code",
   "execution_count": null,
   "metadata": {},
   "outputs": [],
   "source": [
    "from kg_extract.ocr import Ocr\n",
    "\n",
    "ocr = Ocr()"
   ]
  },
  {
   "cell_type": "code",
   "execution_count": null,
   "metadata": {},
   "outputs": [],
   "source": [
    "data"
   ]
  },
  {
   "cell_type": "code",
   "execution_count": null,
   "metadata": {},
   "outputs": [],
   "source": []
  }
 ],
 "metadata": {
  "kernelspec": {
   "display_name": "Python 3",
   "language": "python",
   "name": "python3"
  },
  "language_info": {
   "codemirror_mode": {
    "name": "ipython",
    "version": 3
   },
   "file_extension": ".py",
   "mimetype": "text/x-python",
   "name": "python",
   "nbconvert_exporter": "python",
   "pygments_lexer": "ipython3",
   "version": "3.7.9"
  }
 },
 "nbformat": 4,
 "nbformat_minor": 4
}
