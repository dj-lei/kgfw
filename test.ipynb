{
 "cells": [
  {
   "cell_type": "code",
   "execution_count": 1,
   "metadata": {},
   "outputs": [],
   "source": [
    "import re\n",
    "import pandas as pd"
   ]
  },
  {
   "cell_type": "code",
   "execution_count": 3,
   "metadata": {},
   "outputs": [],
   "source": [
    "from kg_extract.doc_handle import RuDocHandle\n",
    "\n",
    "document = RuDocHandle('test.docx')\n",
    "data = document.get_doc_structure()"
   ]
  },
  {
   "cell_type": "code",
   "execution_count": null,
   "metadata": {},
   "outputs": [],
   "source": [
    "data"
   ]
  },
  {
   "cell_type": "code",
   "execution_count": 4,
   "metadata": {},
   "outputs": [],
   "source": [
    "data.to_csv('./man.csv',index=False)"
   ]
  },
  {
   "cell_type": "code",
   "execution_count": null,
   "metadata": {},
   "outputs": [],
   "source": [
    "set(data.proper_nouns_name.values)"
   ]
  },
  {
   "cell_type": "code",
   "execution_count": null,
   "metadata": {},
   "outputs": [],
   "source": [
    "from kg_extract.ner import RuNer\n",
    "\n",
    "document = RuNer('en_core_web_sm', 'test.docx')"
   ]
  },
  {
   "cell_type": "code",
   "execution_count": null,
   "metadata": {},
   "outputs": [],
   "source": [
    "data = document.get_sentences_ner()"
   ]
  },
  {
   "cell_type": "code",
   "execution_count": null,
   "metadata": {},
   "outputs": [],
   "source": [
    "proper_nouns = list(pd.read_csv('proper_nouns.csv')['proper_nouns_name'].values)\n",
    "proper_nouns"
   ]
  },
  {
   "cell_type": "code",
   "execution_count": null,
   "metadata": {
    "scrolled": true
   },
   "outputs": [],
   "source": [
    "temp = 'On the downlink path, the Digital Subsystem DU receives information through the Transport Network interface and uses Baseband signal processing to encode the data as IQ modulated digital data to meet the requirements of the antenna interface (AI)'.split(' ')\n",
    "set(proper_nouns).intersection(set(temp))"
   ]
  },
  {
   "cell_type": "code",
   "execution_count": null,
   "metadata": {},
   "outputs": [],
   "source": [
    "data.to_csv('./man.csv',index=False)"
   ]
  },
  {
   "cell_type": "code",
   "execution_count": null,
   "metadata": {},
   "outputs": [],
   "source": [
    "from kg_process.es import Ru_es\n",
    "\n",
    "es = Ru_es(\"http://localhost:7474\",auth=(\"neo4j\",\"test\"))\n",
    "es.insert()"
   ]
  },
  {
   "cell_type": "code",
   "execution_count": null,
   "metadata": {},
   "outputs": [],
   "source": [
    "es.insert()"
   ]
  },
  {
   "cell_type": "code",
   "execution_count": 7,
   "metadata": {},
   "outputs": [],
   "source": [
    "from datetime import datetime\n",
    "from elasticsearch import Elasticsearch\n",
    "es = Elasticsearch([{'host':'localhost','port':9200}])\n",
    "\n",
    "doc = {\n",
    "    's': '',\n",
    "    'p': '',\n",
    "    'o': '',\n",
    "    'key_words': [],\n",
    "    'timestamp': datetime.now(),\n",
    "}\n",
    "# res = es.index(index=\"test-index\", id=1, body=doc)\n",
    "# print(res['result'])"
   ]
  },
  {
   "cell_type": "code",
   "execution_count": 13,
   "metadata": {},
   "outputs": [],
   "source": [
    "graph_data = pd.read_csv('man.csv')\n",
    "for i in range(0, len(graph_data)):\n",
    "    doc['s'] = graph_data['s'][i]\n",
    "    doc['p'] = graph_data['p'][i]\n",
    "    doc['o'] = graph_data['o'][i]\n",
    "    doc['key_words'] = eval(graph_data['key_words'][i])\n",
    "    doc['timestamp'] = datetime.now()\n",
    "    es.index(index=\"doc\", doc_type='Radio Application Architecture Description', body=doc)"
   ]
  },
  {
   "cell_type": "code",
   "execution_count": 39,
   "metadata": {},
   "outputs": [],
   "source": [
    "# res = es.get(index=\"test-index\", id=1)\n",
    "# print(res['_source'])\n",
    "\n",
    "# es.indices.refresh(index=\"test-index\")\n",
    "\n",
    "res = es.search(index=\"doc\", doc_type='Radio Application Architecture Description', \n",
    "                body={\n",
    "                        \"query\": {\n",
    "                            \"match\": {\n",
    "                                \"o\": {      \n",
    "                                    \"query\":    \"RBS 3GPP\",\n",
    "                                    \"operator\": \"and\"\n",
    "                                }\n",
    "                            }\n",
    "                        }\n",
    "                    }\n",
    "               )\n",
    "# print(\"Got %d Hits:\" % res['hits']['total']['value'])\n",
    "# for hit in res['hits']['hits']:\n",
    "#     print(\"%(timestamp)s %(author)s: %(text)s\" % hit[\"_source\"])"
   ]
  },
  {
   "cell_type": "code",
   "execution_count": null,
   "metadata": {},
   "outputs": [],
   "source": [
    "from pptx import Presentation\n",
    "\n",
    "prs = Presentation('test.pptx')\n",
    "prs.slides[5].export(\"the_new_path-file.jpg\", \"JPG\")\n",
    "\n",
    "# text_runs will be populated with a list of strings,\n",
    "# one for each text run in presentation\n",
    "# text_runs = []\n",
    "\n",
    "# for slide in prs.slides:\n",
    "#     for shape in slide.shapes:\n",
    "#         if not shape.has_text_frame:\n",
    "#             continue\n",
    "#         for paragraph in shape.text_frame.paragraphs:\n",
    "#             for run in paragraph.runs:\n",
    "#                 text_runs.append(run.text)"
   ]
  },
  {
   "cell_type": "code",
   "execution_count": null,
   "metadata": {},
   "outputs": [],
   "source": [
    "pic = prs.slides[5]\n",
    "with open('mypic.jpg', 'wb') as f:\n",
    "    f.write(pic.image.blob)"
   ]
  },
  {
   "cell_type": "code",
   "execution_count": null,
   "metadata": {},
   "outputs": [],
   "source": [
    "from PIL import Image\n",
    "from io import BytesIO\n",
    "\n",
    "\n",
    "# Convert the corrected list to \"bytes\", wrap in BytesIO and ask PIL to open as PIL Image\n",
    "pImage = Image.open(BytesIO(bytes(pic.background.element)))\n",
    "\n",
    "# Now we can display it\n",
    "pImage.show() \n",
    "\n",
    "# Or save it\n",
    "pImage.save('result.jpg')"
   ]
  },
  {
   "cell_type": "code",
   "execution_count": null,
   "metadata": {},
   "outputs": [],
   "source": [
    "import win32com\n",
    "import win32com.client\n",
    "\n",
    "Application = win32com.client.Dispatch(\"PowerPoint.Application\")\n",
    "\n",
    "Presentation = Application.Presentations.Open(r\"C:\\Users\\eeeinld\\PycharmProjects\\test_ui\\test.pptx\", WithWindow=False)\n",
    "Presentation.Slides[5].Export(r\"C:\\Users\\eeeinld\\PycharmProjects\\test_ui\\test.jpg\", \"JPG\")\n",
    "Application.Quit()"
   ]
  }
 ],
 "metadata": {
  "kernelspec": {
   "display_name": "Python 3",
   "language": "python",
   "name": "python3"
  },
  "language_info": {
   "codemirror_mode": {
    "name": "ipython",
    "version": 3
   },
   "file_extension": ".py",
   "mimetype": "text/x-python",
   "name": "python",
   "nbconvert_exporter": "python",
   "pygments_lexer": "ipython3",
   "version": "3.7.9"
  }
 },
 "nbformat": 4,
 "nbformat_minor": 4
}
