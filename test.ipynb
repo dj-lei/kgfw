{
 "cells": [
  {
   "cell_type": "code",
   "execution_count": null,
   "metadata": {},
   "outputs": [],
   "source": [
    "from kg_extract.doc_handle import RuDocHandle\n",
    "\n",
    "document = RuDocHandle('test.docx')\n",
    "data = document.get_docx_structure_v2()\n",
    "catalog = document.get_catalog()\n",
    "# document.recovery_docx()"
   ]
  },
  {
   "cell_type": "code",
   "execution_count": null,
   "metadata": {},
   "outputs": [],
   "source": [
    "style = []\n",
    "for temp in data['content']:\n",
    "    style.append(temp['style'])\n",
    "set(style)"
   ]
  },
  {
   "cell_type": "code",
   "execution_count": null,
   "metadata": {
    "scrolled": true
   },
   "outputs": [],
   "source": []
  },
  {
   "cell_type": "code",
   "execution_count": null,
   "metadata": {},
   "outputs": [],
   "source": [
    "from kg_extract.doc_handle import BasePptxHandle\n",
    "document = BasePptxHandle('test.pptx')\n",
    "data = document.get_pptx_structure()"
   ]
  },
  {
   "cell_type": "code",
   "execution_count": null,
   "metadata": {},
   "outputs": [],
   "source": [
    "len(data)"
   ]
  },
  {
   "cell_type": "code",
   "execution_count": null,
   "metadata": {
    "scrolled": true
   },
   "outputs": [],
   "source": [
    "from docx import Document\n",
    "\n",
    "doc = Document('test.docx')\n",
    "count = 0\n",
    "for par in doc.paragraphs:\n",
    "    style = par.style.name\n",
    "    content = par.text.strip()\n",
    "    print(style, content)"
   ]
  },
  {
   "cell_type": "code",
   "execution_count": null,
   "metadata": {},
   "outputs": [],
   "source": [
    "from kg_extract.ner import RuNer\n",
    "\n",
    "document = RuNer('en_core_web_sm', 'test.docx')"
   ]
  },
  {
   "cell_type": "code",
   "execution_count": null,
   "metadata": {},
   "outputs": [],
   "source": [
    "data = document.get_sentences_ner()"
   ]
  },
  {
   "cell_type": "code",
   "execution_count": null,
   "metadata": {},
   "outputs": [],
   "source": [
    "proper_nouns = list(pd.read_csv('proper_nouns.csv')['proper_nouns_name'].values)\n",
    "proper_nouns"
   ]
  },
  {
   "cell_type": "code",
   "execution_count": null,
   "metadata": {
    "scrolled": true
   },
   "outputs": [],
   "source": [
    "temp = 'On the downlink path, the Digital Subsystem DU receives information through the Transport Network interface and uses Baseband signal processing to encode the data as IQ modulated digital data to meet the requirements of the antenna interface (AI)'.split(' ')\n",
    "set(proper_nouns).intersection(set(temp))"
   ]
  },
  {
   "cell_type": "code",
   "execution_count": null,
   "metadata": {},
   "outputs": [],
   "source": [
    "data.to_csv('./man.csv',index=False)"
   ]
  },
  {
   "cell_type": "code",
   "execution_count": null,
   "metadata": {},
   "outputs": [],
   "source": [
    "from kg_process.es import Ru_es\n",
    "\n",
    "es = Ru_es(\"http://localhost:7474\",auth=(\"neo4j\",\"test\"))\n",
    "es.insert()"
   ]
  },
  {
   "cell_type": "code",
   "execution_count": null,
   "metadata": {},
   "outputs": [],
   "source": [
    "es.insert()"
   ]
  },
  {
   "cell_type": "code",
   "execution_count": null,
   "metadata": {},
   "outputs": [],
   "source": [
    "from datetime import datetime\n",
    "from elasticsearch import Elasticsearch\n",
    "es = Elasticsearch([{'host':'localhost','port':9200}])\n",
    "\n",
    "doc = {\n",
    "    's': '',\n",
    "    'p': '',\n",
    "    'o': '',\n",
    "    'key_words': [],\n",
    "    'timestamp': datetime.now(),\n",
    "}\n",
    "# res = es.index(index=\"test-index\", id=1, body=doc)\n",
    "# print(res['result'])"
   ]
  },
  {
   "cell_type": "code",
   "execution_count": null,
   "metadata": {},
   "outputs": [],
   "source": [
    "graph_data = pd.read_csv('man.csv')\n",
    "for i in range(0, len(graph_data)):\n",
    "    doc['s'] = graph_data['s'][i]\n",
    "    doc['p'] = graph_data['p'][i]\n",
    "    doc['o'] = graph_data['o'][i]\n",
    "    doc['key_words'] = eval(graph_data['key_words'][i])\n",
    "    doc['timestamp'] = datetime.now()\n",
    "    es.index(index=\"doc\", doc_type='Radio Application Architecture Description', body=doc)"
   ]
  },
  {
   "cell_type": "code",
   "execution_count": null,
   "metadata": {},
   "outputs": [],
   "source": [
    "# res = es.get(index=\"test-index\", id=1)\n",
    "# print(res['_source'])\n",
    "\n",
    "# es.indices.refresh(index=\"test-index\")\n",
    "\n",
    "res = es.search(index=\"doc\", doc_type='Radio Application Architecture Description', \n",
    "                body={\n",
    "                        \"query\": {\n",
    "                            \"match\": {\n",
    "                                \"o\": {      \n",
    "                                    \"query\":    \"RBS 3GPP\",\n",
    "                                    \"operator\": \"and\"\n",
    "                                }\n",
    "                            }\n",
    "                        }\n",
    "                    }\n",
    "               )\n",
    "# print(\"Got %d Hits:\" % res['hits']['total']['value'])\n",
    "# for hit in res['hits']['hits']:\n",
    "#     print(\"%(timestamp)s %(author)s: %(text)s\" % hit[\"_source\"])"
   ]
  },
  {
   "cell_type": "code",
   "execution_count": null,
   "metadata": {
    "scrolled": false
   },
   "outputs": [],
   "source": [
    "import numpy as np\n",
    "import matplotlib.pyplot as plt  \n",
    "from PIL import Image\n",
    "import cv2 \n",
    "\n",
    "image = cv2.imread('image3.jpg',0)\n",
    "image = cv2.Laplacian(image,cv2.CV_64F)\n",
    "# plt.hist(img.ravel(),256,[0,256]); plt.show()\n",
    "# clahe = cv2.createCLAHE(clipLimit=1.0, tileGridSize=(4,4))\n",
    "# image = clahe.apply(img)\n",
    "\n",
    "(origH, origW) = image.shape[:2]\n",
    "(newW, newH) = (int(origW*1.5), int(origH*1.5))\n",
    "image = cv2.resize(image, (newW, newH))\n",
    "\n",
    "# ret,image = cv2.threshold(image,40,255,cv2.THRESH_BINARY)\n",
    "\n",
    "# gray = cv2.cvtColor(image, cv2.COLOR_BGR2GRAY)\n",
    "# dst = 255 - gray\n",
    "# cv2.imshow('dst', dst)\n",
    "\n",
    "plt.hist(image.ravel(),256,[0,256]); plt.show()\n",
    "\n",
    "plt.rcParams['figure.figsize'] = (newW/100, newH/100) # 设置figure_size尺寸\n",
    "plt.rcParams['figure.dpi'] = 100 #分辨率\n",
    "\n",
    "plt.imshow(image)"
   ]
  },
  {
   "cell_type": "code",
   "execution_count": null,
   "metadata": {},
   "outputs": [],
   "source": [
    "img"
   ]
  },
  {
   "cell_type": "code",
   "execution_count": null,
   "metadata": {},
   "outputs": [],
   "source": [
    "import matplotlib.pyplot as plt  \n",
    "from PIL import Image\n",
    "import cv2\n",
    "\n",
    "image = cv2.imread('image3.jpg')\n",
    "\n",
    "# By default OpenCV stores images in BGR format and since pytesseract assumes RGB format,\n",
    "# we need to convert from BGR to RGB format/mode:\n",
    "image = cv2.cvtColor(image, cv2.COLOR_BGR2RGB)\n",
    "\n",
    "(origH, origW) = image.shape[:2]\n",
    "(newW, newH) = (int(origW*1.5), int(origH*1.5))\n",
    "image = cv2.resize(image, (newW, newH))\n",
    "\n",
    "plt.rcParams['figure.figsize'] = (newW/100, newH/100) # 设置figure_size尺寸\n",
    "plt.rcParams['figure.dpi'] = 100 #分辨率\n",
    "\n",
    "plt.imshow(image)"
   ]
  },
  {
   "cell_type": "code",
   "execution_count": null,
   "metadata": {},
   "outputs": [],
   "source": [
    "temp = 'class Tx'\n",
    "temp.split(':')"
   ]
  },
  {
   "cell_type": "code",
   "execution_count": null,
   "metadata": {},
   "outputs": [],
   "source": [
    "include = []\n",
    "namespace = []\n",
    "with open('txBackoffCtrl.h', 'r') as f:\n",
    "    for line in f.readlines():\n",
    "        line = line.strip().replace('  ', ' ')\n",
    "        if not line.startswith('#include'):\n",
    "            continue\n",
    "        \n",
    "        if line.startswith('#include'):\n",
    "            include.append(line.split(' ')[1])\n",
    "            \n",
    "        if line.startswith('namespace'):\n",
    "            namespace.append(line.split(' ')[1])\n",
    "            \n",
    "        if line.startswith('class'):\n",
    "            "
   ]
  },
  {
   "cell_type": "code",
   "execution_count": null,
   "metadata": {},
   "outputs": [],
   "source": [
    "from clang.cindex import Config\n",
    "from clang.cindex import Index\n",
    "\n",
    "libclangPath = r'C:\\Program Files\\LLVM\\bin'\n",
    "Config.set_library_path(libclangPath)"
   ]
  },
  {
   "cell_type": "code",
   "execution_count": 1,
   "metadata": {},
   "outputs": [],
   "source": [
    "from clang.cindex import Config\n",
    "from clang.cindex import TypeKind\n",
    "from clang.cindex import CursorKind\n",
    "from clang.cindex import Index\n",
    "#首先需要导入需要的类型包。\n",
    "#clang的python绑定的具体配置方法看博主的另一篇博客clang的python接口(-)\n",
    "# libclangPath = '/usr/lib/llvm-4.0/lib/libclang-4.0.so.1'\n",
    "\n",
    "def method_definitions(cursor):\n",
    "    for i in cursor.walk_preorder():\n",
    "        if i.kind != CursorKind.CXX_METHOD:\n",
    "            continue\n",
    "        if not i.is_definition():\n",
    "            continue\n",
    "        yield i\n",
    "\n",
    "def extract_definition(cursor):\n",
    "    filename = cursor.location.file.name\n",
    "    with open(filename, 'r') as fh:\n",
    "        contents = fh.read()\n",
    "    return contents[cursor.extent.start.offset: cursor.extent.end.offset]\n",
    "\n",
    "libclangPath = r'C:\\Program Files\\LLVM\\bin\\libclang.dll'\n",
    "# if Config.loaded==True:\n",
    "#     pass\n",
    "# else:\n",
    "Config.set_library_file(libclangPath)\n",
    "#libclangPath是libclang.so的具体位置。\n",
    "index = Index.create()\n",
    "tu = index.parse('txBackoffCtrl.h')\n",
    "\n",
    "# defns = method_definitions(tu.cursor)\n",
    "# for defn in defns:\n",
    "#     print(extract_definition(defn))"
   ]
  },
  {
   "cell_type": "code",
   "execution_count": 5,
   "metadata": {},
   "outputs": [
    {
     "name": "stdout",
     "output_type": "stream",
     "text": [
      "<clang.cindex.Cursor object at 0x000002427A54E248>\n",
      "<clang.cindex.Cursor object at 0x000002427A54E448>\n"
     ]
    }
   ],
   "source": [
    "temp = tu\n",
    "for i in temp.cursor.walk_preorder():\n",
    "    print(i.)"
   ]
  },
  {
   "cell_type": "code",
   "execution_count": 10,
   "metadata": {},
   "outputs": [],
   "source": [
    "with open('txBackoffCtrl.h', 'r') as fh:\n",
    "    contents = fh.read()\n",
    "data = contents[tu.cursor.extent.start.offset: tu.cursor.extent.end.offset]"
   ]
  },
  {
   "cell_type": "code",
   "execution_count": 11,
   "metadata": {
    "scrolled": true
   },
   "outputs": [
    {
     "data": {
      "text/plain": [
       "'/******************************************************************************\\n ************************* Copyright ERICSSON AB 2014 **************************\\n *******************************************************************************\\n *\\n * The Copyright to the computer programs herein is the property of ERICSSON AB.\\n * The programs may be used and/or copied only with the written permission from\\n * ERICSSON AB or in accordance with the terms and conditions stipulated in\\n * the agreement/contract under which the programs have been supplied.\\n *\\n *******************************************************************************\\n */\\n#ifndef TXBACKOFFCTRL_H_\\n#define TXBACKOFFCTRL_H_\\n\\n#include <set>\\n#include \"overTempSrvIf.h\"\\n#include \"overPowerSrvIf.h\"\\n#include <osetypes.h>\\n#include <ruError.h>\\n#include \"txBackoffCtrlIf.h\"\\n#include \"txServiceContainer.h\"\\n#include \"serviceCommonData.h\"\\n#include \"serviceLocatorIf.h\"\\n#include \"instanceToken.h\"\\n#include \"activeObject.h\"\\n#include \"cavFilterProtectSrvIf.h\"\\n#include \"circulatorLoadProtectSrvIf.h\"\\n#include \"extVoltBackoffSrvIf.h\"\\n#include \"fastBackoffProtectSrvIf.h\"\\n#include \"carrierCompSrvIf.h\"\\n#include \"pa1SrvIf.h\"\\n\\nnamespace Tx\\n{\\n\\nnamespace ServiceControl\\n{\\n\\n/*! @brief Over temperature subcontroller\\n *\\n */\\nclass TxBackoffCtrl: public TxBackoffCtrlIf, public CommFW::ActiveObject\\n{\\npublic:\\n\\n    /*! @brief Constructor.\\n     *  @param err                  Constructor failure error.\\n     *  @param p_serviceLocator     ServiceLocatorIf reference.\\n     *  @param p_serviceCommonData  Contains the service specific attributes.\\n     *  @param p_instanceToken      TxBranch (used to obtain driver).\\n     */\\n    TxBackoffCtrl(RuError& err, ServiceFramework::ServiceLocatorIf& p_serviceLocator,\\n                  const ServiceCommonDataIf& p_serviceCommonData,\\n                  Driver::InstanceToken p_instanceToken);\\n\\n    /*! @brief Destructor\\n     */\\n    ~TxBackoffCtrl(void);\\n\\n    /*! Implements BaseSrvIf */\\n    const std::string& getServiceVariant(void) const;\\n\\n    /*! @brief Basic initialization.\\n     *  @return bool The operation result.\\n     */\\n    bool preInitializeService(void);\\n\\n    /*! @brief Read database values needed. Start periodic reading of temperature sensors.\\n     *  @return bool The operation result.\\n     */\\n    bool postInitializeService(void);\\n\\n    void supervise(void);\\n\\n    /*! @brief Handle the OSE shell command request.\\n     *  @param argc  - The argument count\\n     *  @param argv  - The variable argument list\\n     */\\n    void handleCmd(int argc, const char* const* argv);\\n\\n    //@{\\n    /*! Implements TxBackoffCtrlIf */\\n    void subscribePaBackoff(CommFW::BaseSlot1<void, Gain>* p_slot);\\n    void subscribePa1Backoff(CommFW::BaseSlot1<void, Gain>* p_slot);\\n    void subscribeOverTempState(CommFW::BaseSlot1<void, TxOverTempCtrlStateEnumType>* p_slot);\\n    void subscribeFaultFiltering(FaultCallback* callbackAllow, FaultCallback* callbackSuppress) override;\\n    void subscribeApplyBackoff(CommFW::BaseSlot0<void>* p_slot);\\n    //@}\\n\\n    /*! @brief Subscribe to CavFilterProtectSrv backoff request\\n     *  @return void\\n     */\\n    void subscribeCavFilterProtectBackoffReq();\\n\\n    /*! @brief Subscribe to CirculatorLoadProtectSrv backoff request\\n     *  @return void\\n     */\\n    void subscribeCirculatorLoadProtectBackoffReq();\\n\\n    /*! @brief Subscribe to ExtVoltBackoffSrv backoff request\\n     *  @return void\\n     */\\n    void subscribeExtendedVoltageBackoffReq();\\n\\n    /*! @brief Subscribe to EvbSbpsStateChange request\\n     *  @param  p_slot Callback slot method\\n     *  @return void\\n     */\\n    void subscribeEvbSbpsStateChangeReq(CommFW::BaseSlot1<void, uint8_t>* p_slot);\\n\\n    /*! @brief Subscribe to Over power backoff request\\n     *  @return void\\n     */\\n    void subscribeOverPowerBackoffReq();\\n\\n    /*! @brief Subscribe to PowerDropSv backoff request\\n     *  @return void\\n     */\\n    void subscribePowerDropSvBackoffReq(CommFW::BaseSlot1<void, Gain>* p_slot);\\n\\n    /*! @brief Subscribe to FastBackoffProtectSrv backoff request\\n     *  @return void\\n     */\\n    void subscribeFastBackoffProtectBackoffReq();\\n\\n    void setPaBackoff(const Gain& p_actualPaBackoff);\\n\\n    /*! @brief  Called at changes in carrier configuration\\n     *  @return void\\n     */\\n    void handleCarrierChangeEvent();\\n\\n    /*! @brief  Called periodically with measured VSWR value\\n     *  @param bandId measure band\\n     *  @param vswrMeas measured VSWR value\\n     *  @param forwardPower VSWR forward power\\n     *  @return void\\n     */\\n    void handleVswrMeasurement(uint16_t bandId, uint32_t vswrMeas, uint32_t forwardPower);\\n\\n    /*! @brief Subscribe for temperature requests\\n     *\\n     *  @param onTemperatureDataReq Callback method\\n     *  @return bool True if successful, otherwise return false\\n     */\\n    bool subscribeTemperatureDataReq(const TemperatureDataCallback& onTemperatureDataReq);\\n\\n    /*!\\n     * @brief  Returns most attenuated gain from given vector.\\n     * @param  gains Vector of gains to compare.\\n     * @return Most attenuated gain from given vector or Gain(0) if vector is empty.\\n     */\\n    Gain getMostAttenuatedGain(const vector<Gain> gains);\\n\\n    struct vswrMeasInfo\\n    {\\n        RfPort port;\\n        uint32_t bandId;\\n        uint32_t vswrMeas;\\n        uint32_t forwardPower;\\n    };\\n\\nprotected:\\n\\n    /*! @brief (brief)\\n      *\\n      *  (description)\\n      */\\n    class BackoffCoordData\\n    {\\n    public:\\n        /*! @brief Constructor */\\n        BackoffCoordData():\\n            analogBackoff(0),\\n            digitalBackoff(0),\\n            overTempDigitalBackoff(0),\\n            overTempAnalogBackoff(0),\\n            overTempBackoff(0),\\n            cavFilterProtectBackoff(0),\\n            circulatorLoadProtectBackoff(0),\\n            extendedVoltageBackoff(0),\\n            powerDropSvBackoff(0),\\n            overPowerBackoff(0),\\n            fastBackoffProtectBackoff(0),\\n            coordinationNeeded(false),\\n            unhandledPdsReq(false)\\n        {\\n        }\\n\\n        /*! @brief Destructor */\\n        ~BackoffCoordData() {};\\n\\n        Gain analogBackoff; /*! Current analog backoff              */\\n        Gain digitalBackoff; /*! Current digital backoff             */\\n        Gain overTempDigitalBackoff; /*! OverTemp digital backoff            */\\n        Gain overTempAnalogBackoff; /*! OverTemp analog backoff             */\\n        Gain overTempBackoff; /*! OverTemp analog + digital backoff   */\\n        Gain cavFilterProtectBackoff; /*! CavFilterProtect backoff            */\\n        Gain circulatorLoadProtectBackoff; /*! CirculatorLoadProtect backoff       */\\n        Gain extendedVoltageBackoff; /*! ExtendedVoltage backoff       */\\n        Gain powerDropSvBackoff;\\n        Gain overPowerBackoff; /*! over Power backoff       */\\n        Gain fastBackoffProtectBackoff; /*! FastBackoffProtect backoff       */\\n        bool coordinationNeeded; /*! True if backoff coordination needed */\\n        bool unhandledPdsReq;\\n    };\\n\\n    BackoffCoordData m_backoffCoordData;\\n\\n    /*! @brief Resolve dependencies to external services.\\n     *  @return bool: the operation result.\\n     */\\n    bool setDependencies(void);\\n\\n    /*!\\n     * @brief Callback function for subscribePa1Backoff\\n     * @param gain\\n     */\\n    void onPa1BackoffReq(BackoffGainData gain);\\n\\n    /*!\\n     * @brief Callback function for subscribePaBackoff\\n     * @param gain\\n     */\\n    void onPaBackoffReq(Gain gain);\\n\\n    /*!\\n     * @brief Callback function for subscribeBackoffReq\\n     * @param gain\\n     */\\n    void onCavFilterProtectBackoffReq(Gain gain);\\n\\n    /*!\\n     * @brief Callback function for subscribeBackoffReq\\n     * @param gain\\n     */\\n    void onCirculatorLoadProtectBackoffReq(Gain gain);\\n\\n    /*!\\n     * @brief Callback function for subscribeExtendedVoltageBackoffReq\\n     * @param gain\\n     */\\n    void onExtendedVoltageBackoffReq(Gain gain);\\n\\n    /*!\\n     * @brief Callback function for subscribeEvbSbpsStateChangeReq\\n     * @param gain\\n     */\\n    void onEvbSbpsStateChangeReq(uint8_t sbpsState);\\n\\n    /*!\\n     * @brief Callback function for subscribeBackoffReq\\n     * @param gain\\n     */\\n    void onPowerBackoffReq(Gain gain);\\n\\n    /*!\\n     * @brief Callback function for subscribeBackoffReq\\n     * @param gain\\n     */\\n    void onPowerDropSvBackoffReq(Gain gain);\\n\\n    /*!\\n     * @brief Callback function for subscribeBackoffReq\\n     * @param gain\\n     */\\n    void onFastBackoffProtectBackoffReq(Gain gain);\\n\\n    /*!\\n     * @brief Callback function for subscribeApplyBackoff\\n     */\\n    void onApplyBackoff();\\n\\n    /*!\\n     * @brief Callback function for subscribeOverTempState\\n     * @param state\\n     */\\n    void onOverTempStateChange(Tx::Service::OverTempSrvIf::TxOverTempSrvStateEnumType state);\\n\\n    /*!\\n     * @brief Callback function for periodic timeout\\n     * @param timerId\\n     */\\n    void onPeriodicReq(CommFW::TimerId timerId);\\n\\n    /*!\\n     * @brief Enable timer for periodical timeout.\\n     * Also used by coli command.\\n     */\\n    void start();\\n\\n    /*!\\n     * @brief Disable timer for periodical timeout.\\n     * Used by coli command.\\n     */\\n    void stop();\\n\\n    virtual void coordinateBackoff(bool applyDigitalBackoff = true);\\n\\n    void doHandleCarrierChangeEvent();\\n\\n    void doHandleVswrMeasurement(vswrMeasInfo vswrInfo);\\n\\n    /*! Conversion of service state to ctrl state */\\n    TxOverTempCtrlStateEnumType srvStateToCtrlState(Tx::Service::OverTempSrvIf::TxOverTempSrvStateEnumType);\\n\\n    /*!\\n     * @brief Forward actual backoff to service.\\n     * @param p_actualPaBackoff\\n     */\\n    void doSetPaBackoff(const Gain& actualPaBackoff);\\n\\n    void onAllowFaultNo(LocalFaultId faultNo);\\n\\n    void onSuppressFaultNo(LocalFaultId faultNo);\\n\\n    /*!\\n     * @brief Gives Greatest Common Divisor of two integers.\\n     */\\n    uint32_t getGcd(uint32_t a, uint32_t b);\\n\\n    /*! @brief Make the correction for PDS backOff, to ensure that the IND is sent\\n     *\\n     *  @param Gain backoff value reported by PDS service\\n     */\\n    void pdsCorrection(Gain&);\\n\\n    /*!\\n     * @brief Emit given Gain as Pa1BackoffReq and apply backoff.\\n     * @param emitGain Gain to be emited.\\n     * @param forceEmit If set to true emit request will be forced without Gain comparison.\\n     */\\n    virtual void emitNonPdsRequest(const Gain emitGain, const bool forceEmit = false);\\n\\n    /*!\\n     * @brief  Compares which Gain is more attenuated.\\n     * @param  lhs First Gain value.\\n     * @param  rhs Second Gain value.\\n     * @return True if lhs Gain is more attenuated than rhs Gain, false otherwise.\\n     */\\n    bool isGreaterBackoff(const Gain lhs, const Gain rhs);\\n\\n    /*!\\n     * @brief  Compares which Gain is more attenuated.\\n     * @param  lhs First Gain value.\\n     * @param  rhs Second Gain value.\\n     * @return True if lhs Gain is more attenuated or equal to rhs Gain, false otherwise.\\n     */\\n    bool isGreaterOrEqualBackoff(const Gain lhs, const Gain rhs);\\n\\n    /*! Service administration data */\\n    Tx::ServiceAdministration::TxServiceContainer* m_serviceLocator;\\n    ServiceCommonData   m_serviceCommonData;\\n\\n    const std::string m_serviceVariant;\\n    static bool m_registeredInSrvFactory;\\n\\n    /*! Tx branch id */\\n    const Tx::TxBranchId m_txBranchId;\\n\\n    /*! Contains the subscriber for onPa1BackoffReq */\\n    CommFW::BaseSlot1<void, Gain>* m_onPa1BackoffReq;\\n    CommFW::BaseSlot1<void, Gain>* m_onPdsPa1BackoffReq;\\n\\n    /*! Contains the subscriber for onPaBackoff */\\n    CommFW::BaseSlot1<void, Gain>* m_onPaBackoffReq;\\n\\n    CommFW::BaseSlot0<void>* m_onApplyBackoff;\\n\\n    /*! Contains the subscriber for onOverTempStateChange */\\n    CommFW::BaseSlot1<void, TxOverTempCtrlStateEnumType>* m_onOverTempStateChange;\\n\\n    /*! Contains the subscriber for onEvbSbpsStateChangeReq */\\n    CommFW::BaseSlot1<void, uint8_t>* m_onEvbSbpsStateChangeReq;\\n\\n    Service::OverTempSrvIf* m_overTempSrvIf;\\n\\n    Service::OverPowerSrvIf* m_overPowerSrvIf;\\n\\n    Service::CavFilterProtectSrvIf* m_filterProtSrvIf;\\n\\n    Service::CirculatorLoadProtectSrvIf* m_circulatorLoadProtectSrvIf;\\n\\n    Service::ExtVoltBackoffSrvIf* m_extVoltBackoffSrvIf;\\n\\n    Service::FastBackoffProtectSrvIf* m_fastBackoffProtectSrvIf;\\n\\n    Service::Pa1SrvIf* m_pa1SrvIf;\\n\\n    Service::CarrierCompSrvIf* m_carrierCompSrvIf;\\n\\n    static constexpr Gain ZERO_GAIN = Gain(0);\\n\\n    bool m_powerDropSvSrvEnabled;\\n\\n    bool m_timerStarted;\\n\\n    /*! Periodic timer values */\\n    uint32_t m_otcPeriod; // OverTemp\\n    uint32_t m_cfpPeriod; // CavFilterProtect\\n\\n    /*! Periodic timer value based on the GCD of overTemp & cavFilterProt */\\n    uint32_t m_period;\\n\\n    /* Keep track of elapsed time */\\n    uint32_t m_otcTicks;\\n    uint32_t m_cfpTicks;\\n\\n    /*! Periodic timer id. */\\n    CommFW::TimerId m_timerId;\\n\\n    uint8_t m_filterProtectMode;\\n\\n    /* Database parameter controlling Circulator Protection feature */\\n    uint8_t m_circulatorProtMode;\\n\\n    /* Database parameter controlling power backoff feature */\\n    uint8_t m_poweroffEnable;\\n\\n    /* Database parameter controlling Extended Voltage Backoff feature */\\n    uint8_t m_extendedVoltageBackoffActivated;\\n\\n    /* Database parameter controlling Fast Backoff Protection feature */\\n    uint8_t m_fastBackoffProtMode;\\n\\n    /*! Contains the subscriber to fault allow */\\n    FaultCallback* m_callbackAllowFaultNo;\\n\\n    /*! Contains the subscriber to fault suppress */\\n    FaultCallback* m_callbackSuppressFaultNo;\\n\\n    /*! Carrier componsation mode */\\n    uint16_t m_carrierCompMode;\\n\\n    Mutex pdsMutex;\\n};\\n\\n\\n}\\n}\\n#endif /* TXBACKOFFCTRL_H_ */\\n'"
      ]
     },
     "execution_count": 11,
     "metadata": {},
     "output_type": "execute_result"
    }
   ],
   "source": [
    "data"
   ]
  },
  {
   "cell_type": "code",
   "execution_count": null,
   "metadata": {},
   "outputs": [],
   "source": [
    "import clang.cindex\n",
    "from clang.cindex import *\n",
    "\n",
    "\n",
    "\n",
    "libclangPath = \"C:\\\\Program Files\\\\LLVM\\\\bin\\\\libclang.dll\"\n",
    "# if Config.loaded==True:\n",
    "#     pass\n",
    "# else:\n",
    "Config.set_library_file(libclangPath)\n",
    "\n",
    "idx = Index.create()\n",
    "tu = idx.parse('txBackoffCtrl.h')\n",
    "# defns = method_definitions(tu.cursor)\n",
    "# for defn in defns:\n",
    "#     print(extract_definition(defn))"
   ]
  },
  {
   "cell_type": "code",
   "execution_count": null,
   "metadata": {},
   "outputs": [],
   "source": [
    "Config.get_filename()"
   ]
  },
  {
   "cell_type": "code",
   "execution_count": null,
   "metadata": {},
   "outputs": [],
   "source": [
    "temp"
   ]
  },
  {
   "cell_type": "code",
   "execution_count": null,
   "metadata": {},
   "outputs": [],
   "source": []
  }
 ],
 "metadata": {
  "kernelspec": {
   "display_name": "Python 3",
   "language": "python",
   "name": "python3"
  },
  "language_info": {
   "codemirror_mode": {
    "name": "ipython",
    "version": 3
   },
   "file_extension": ".py",
   "mimetype": "text/x-python",
   "name": "python",
   "nbconvert_exporter": "python",
   "pygments_lexer": "ipython3",
   "version": "3.7.9"
  }
 },
 "nbformat": 4,
 "nbformat_minor": 4
}
