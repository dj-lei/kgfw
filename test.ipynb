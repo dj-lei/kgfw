{
 "cells": [
  {
   "cell_type": "code",
   "execution_count": null,
   "metadata": {},
   "outputs": [],
   "source": [
    "from kg_extract.doc_handle import RuDocHandle\n",
    "\n",
    "document = RuDocHandle('test.docx')\n",
    "data = document.get_proper_nouns()"
   ]
  },
  {
   "cell_type": "code",
   "execution_count": null,
   "metadata": {},
   "outputs": [],
   "source": [
    "from docx import Document\n",
    "\n",
    "rId = ''\n",
    "document = Document('test.docx')\n",
    "for inline_shape in document.inline_shapes:\n",
    "    blip = inline_shape._inline.graphic.graphicData.pic.blipFill.blip\n",
    "    print(blip.embed)\n",
    "    rId = blip.embed"
   ]
  },
  {
   "cell_type": "code",
   "execution_count": null,
   "metadata": {},
   "outputs": [],
   "source": [
    "import zipfile\n",
    "import os\n",
    "\n",
    "def extractimgs(docxpath, dstpath):\n",
    "    doc = zipfile.ZipFile(docxpath)\n",
    "    for info in doc.infolist():\n",
    "        if info.filename.endswith((\".png\", \".jpeg\", \".jpg\", \".gif\", \".emf\")):\n",
    "            doc.extract(info.filename, dstpath)\n",
    "    doc.close()\n",
    "\n",
    "# unzip test.docx -d images\n",
    "extractimgs('test.docx', \"images\")"
   ]
  },
  {
   "cell_type": "code",
   "execution_count": null,
   "metadata": {
    "scrolled": true
   },
   "outputs": [],
   "source": [
    "import docx\n",
    "import pandas as pd\n",
    "import numpy as np\n",
    "\n",
    "# Load the first table from your document. In your example file,\n",
    "# there is only one table, so I just grab the first one.\n",
    "document = docx.Document('test.docx')\n",
    "table = document.tables[2]\n",
    "\n",
    "ls =[]\n",
    "for row in table.rows:\n",
    "    for cell in row.cells:\n",
    "        for paragraph in cell.paragraphs:\n",
    "            ls.append(paragraph.text)\n",
    "            \n",
    "def Doctable(ls, row, column):\n",
    "    df = pd.DataFrame(np.array(ls).reshape(row,column))  #reshape to the table shape\n",
    "    new = docx.Document()\n",
    "    word_table =new.add_table(rows = row, cols = column)\n",
    "    for x in range(0,row,1):\n",
    "        for y in range(0,column,1):\n",
    "            cell = word_table.cell(x,y)\n",
    "            cell.text = df.iloc[x,y]\n",
    "\n",
    "    return new, df\n",
    "\n"
   ]
  },
  {
   "cell_type": "code",
   "execution_count": null,
   "metadata": {},
   "outputs": [],
   "source": [
    "data.to_csv('./man.csv',index=False)"
   ]
  },
  {
   "cell_type": "code",
   "execution_count": null,
   "metadata": {},
   "outputs": [],
   "source": [
    "from kg_extract.ner import RuNer\n",
    "\n",
    "document = RuNer('en_core_web_sm', 'test.docx')"
   ]
  },
  {
   "cell_type": "code",
   "execution_count": null,
   "metadata": {},
   "outputs": [],
   "source": [
    "data = document.get_sentences_ner()"
   ]
  },
  {
   "cell_type": "code",
   "execution_count": null,
   "metadata": {},
   "outputs": [],
   "source": [
    "proper_nouns = list(pd.read_csv('proper_nouns.csv')['proper_nouns_name'].values)\n",
    "proper_nouns"
   ]
  },
  {
   "cell_type": "code",
   "execution_count": null,
   "metadata": {
    "scrolled": true
   },
   "outputs": [],
   "source": [
    "temp = 'On the downlink path, the Digital Subsystem DU receives information through the Transport Network interface and uses Baseband signal processing to encode the data as IQ modulated digital data to meet the requirements of the antenna interface (AI)'.split(' ')\n",
    "set(proper_nouns).intersection(set(temp))"
   ]
  },
  {
   "cell_type": "code",
   "execution_count": null,
   "metadata": {},
   "outputs": [],
   "source": [
    "data.to_csv('./man.csv',index=False)"
   ]
  },
  {
   "cell_type": "code",
   "execution_count": null,
   "metadata": {},
   "outputs": [],
   "source": [
    "from kg_process.es import Ru_es\n",
    "\n",
    "es = Ru_es(\"http://localhost:7474\",auth=(\"neo4j\",\"test\"))\n",
    "es.insert()"
   ]
  },
  {
   "cell_type": "code",
   "execution_count": null,
   "metadata": {},
   "outputs": [],
   "source": [
    "es.insert()"
   ]
  },
  {
   "cell_type": "code",
   "execution_count": null,
   "metadata": {},
   "outputs": [],
   "source": [
    "from datetime import datetime\n",
    "from elasticsearch import Elasticsearch\n",
    "es = Elasticsearch([{'host':'localhost','port':9200}])\n",
    "\n",
    "doc = {\n",
    "    's': '',\n",
    "    'p': '',\n",
    "    'o': '',\n",
    "    'key_words': [],\n",
    "    'timestamp': datetime.now(),\n",
    "}\n",
    "# res = es.index(index=\"test-index\", id=1, body=doc)\n",
    "# print(res['result'])"
   ]
  },
  {
   "cell_type": "code",
   "execution_count": null,
   "metadata": {},
   "outputs": [],
   "source": [
    "graph_data = pd.read_csv('man.csv')\n",
    "for i in range(0, len(graph_data)):\n",
    "    doc['s'] = graph_data['s'][i]\n",
    "    doc['p'] = graph_data['p'][i]\n",
    "    doc['o'] = graph_data['o'][i]\n",
    "    doc['key_words'] = eval(graph_data['key_words'][i])\n",
    "    doc['timestamp'] = datetime.now()\n",
    "    es.index(index=\"doc\", doc_type='Radio Application Architecture Description', body=doc)"
   ]
  },
  {
   "cell_type": "code",
   "execution_count": null,
   "metadata": {},
   "outputs": [],
   "source": [
    "# res = es.get(index=\"test-index\", id=1)\n",
    "# print(res['_source'])\n",
    "\n",
    "# es.indices.refresh(index=\"test-index\")\n",
    "\n",
    "res = es.search(index=\"doc\", doc_type='Radio Application Architecture Description', \n",
    "                body={\n",
    "                        \"query\": {\n",
    "                            \"match\": {\n",
    "                                \"o\": {      \n",
    "                                    \"query\":    \"RBS 3GPP\",\n",
    "                                    \"operator\": \"and\"\n",
    "                                }\n",
    "                            }\n",
    "                        }\n",
    "                    }\n",
    "               )\n",
    "# print(\"Got %d Hits:\" % res['hits']['total']['value'])\n",
    "# for hit in res['hits']['hits']:\n",
    "#     print(\"%(timestamp)s %(author)s: %(text)s\" % hit[\"_source\"])"
   ]
  },
  {
   "cell_type": "code",
   "execution_count": null,
   "metadata": {},
   "outputs": [],
   "source": [
    "from pptx import Presentation\n",
    "\n",
    "prs = Presentation('test.pptx')\n",
    "prs.slides[5].export(\"the_new_path-file.jpg\", \"JPG\")\n",
    "\n",
    "# text_runs will be populated with a list of strings,\n",
    "# one for each text run in presentation\n",
    "# text_runs = []\n",
    "\n",
    "# for slide in prs.slides:\n",
    "#     for shape in slide.shapes:\n",
    "#         if not shape.has_text_frame:\n",
    "#             continue\n",
    "#         for paragraph in shape.text_frame.paragraphs:\n",
    "#             for run in paragraph.runs:\n",
    "#                 text_runs.append(run.text)"
   ]
  },
  {
   "cell_type": "code",
   "execution_count": null,
   "metadata": {},
   "outputs": [],
   "source": [
    "pic = prs.slides[5]\n",
    "with open('mypic.jpg', 'wb') as f:\n",
    "    f.write(pic.image.blob)"
   ]
  },
  {
   "cell_type": "code",
   "execution_count": null,
   "metadata": {},
   "outputs": [],
   "source": [
    "from PIL import Image\n",
    "from io import BytesIO\n",
    "\n",
    "\n",
    "# Convert the corrected list to \"bytes\", wrap in BytesIO and ask PIL to open as PIL Image\n",
    "pImage = Image.open(BytesIO(bytes(pic.background.element)))\n",
    "\n",
    "# Now we can display it\n",
    "pImage.show() \n",
    "\n",
    "# Or save it\n",
    "pImage.save('result.jpg')"
   ]
  },
  {
   "cell_type": "code",
   "execution_count": null,
   "metadata": {},
   "outputs": [],
   "source": [
    "import win32com\n",
    "import win32com.client\n",
    "\n",
    "Application = win32com.client.Dispatch(\"PowerPoint.Application\")\n",
    "\n",
    "Presentation = Application.Presentations.Open(r\"C:\\Users\\eeeinld\\PycharmProjects\\test_ui\\test.pptx\", WithWindow=False)\n",
    "Presentation.Slides[5].Export(r\"C:\\Users\\eeeinld\\PycharmProjects\\test_ui\\test.jpg\", \"JPG\")\n",
    "Application.Quit()"
   ]
  },
  {
   "cell_type": "code",
   "execution_count": 49,
   "metadata": {},
   "outputs": [
    {
     "data": {
      "text/plain": [
       "<matplotlib.image.AxesImage at 0x7fddc48b5278>"
      ]
     },
     "execution_count": 49,
     "metadata": {},
     "output_type": "execute_result"
    },
    {
     "data": {
      "image/png": "[encoded data removed]",
      "text/plain": [
       "<Figure size 1174x708 with 1 Axes>"
      ]
     },
     "metadata": {
      "needs_background": "light"
     },
     "output_type": "display_data"
    }
   ],
   "source": [
    "import matplotlib.pyplot as plt  \n",
    "from PIL import Image\n",
    "import cv2\n",
    "\n",
    "# load the input image and grab the image dimensions\n",
    "image = cv2.imread('image3.png', cv2.IMREAD_GRAYSCALE)\n",
    "\n",
    "(origH, origW) = image.shape[:2]\n",
    "(newW, newH) = (origW*2, origH*2)\n",
    "image = cv2.resize(image, (newW, newH))\n",
    "\n",
    "# define a threshold, 128 is the middle of black and white in grey scale\n",
    "thresh = 170\n",
    "# assign blue channel to zeros\n",
    "image = cv2.threshold(image, thresh, 255, cv2.THRESH_BINARY)[1]\n",
    "\n",
    "cv2.imwrite('black-and-white.png',image)\n",
    "\n",
    "plt.rcParams['figure.figsize'] = (newW/100, newH/100) # 设置figure_size尺寸\n",
    "plt.rcParams['figure.dpi'] = 100 #分辨率\n",
    "\n",
    "plt.imshow(image)"
   ]
  },
  {
   "cell_type": "code",
   "execution_count": 54,
   "metadata": {
    "scrolled": true
   },
   "outputs": [
    {
     "name": "stdout",
     "output_type": "stream",
     "text": [
      "i 9 84 15 88 0\n",
      "d 7 90 15 95 0\n",
      "e 9 97 15 102 0\n",
      "a 9 103 15 108 0\n",
      "s 9 110 17 115 0\n",
      "a 9 119 15 123 0\n",
      "a 9 124 15 129 0\n",
      "‘ 9 132 15 133 0\n",
      "A 9 134 15 140 0\n",
      "A 9 141 15 144 0\n",
      "a 9 146 15 150 0\n",
      "s 9 152 17 157 0\n",
      "a 9 161 15 165 0\n",
      "; 9 166 17 170 0\n",
      "‘ 9 172 15 173 0\n",
      "A 9 175 15 178 0\n",
      "m 9 180 17 191 0\n",
      "~ 29 271 195 276 0\n",
      "M 52 257 60 265 0\n",
      "m 61 257 74 265 0\n",
      "u 76 257 81 263 0\n",
      "l 83 257 85 265 0\n",
      "e 87 257 93 263 0\n",
      "M 95 257 103 265 0\n",
      "a 105 257 110 263 0\n",
      "l 111 257 113 263 0\n",
      "n 114 257 119 263 0\n",
      "w 122 257 135 265 0\n",
      "m 136 257 145 264 0\n",
      "r 146 257 149 263 0\n",
      "d 146 257 158 265 0\n",
      "l 159 257 161 265 0\n",
      "a 159 257 171 265 0\n",
      "~ 29 250 195 255 0\n",
      "~ 29 227 195 232 0\n",
      "~ 28 211 31 274 0\n",
      "~ 193 211 196 274 0\n",
      "~ 29 209 195 214 0\n",
      "~ 560 271 725 276 0\n",
      "M 595 257 603 265 0\n",
      "m 604 257 617 265 0\n",
      "u 619 257 624 263 0\n",
      "l 626 257 628 265 0\n",
      "e 630 257 636 263 0\n",
      "s 637 257 643 265 0\n",
      "u 644 257 649 263 0\n",
      "b 650 257 656 265 0\n",
      "ﬁ 656 255 662 256 0\n",
      "o 661 257 671 265 0\n",
      "r 672 257 675 263 0\n",
      "l 676 257 678 265 0\n",
      "A 681 257 688 265 0\n",
      "~ 560 245 725 250 0\n",
      "~ 560 227 725 232 0\n",
      "~ 723 211 726 274 0\n",
      "~ 560 209 725 214 0\n",
      "~ 49 171 707 186 0\n",
      "~ 366 143 422 154 0\n",
      "~ 49 131 707 146 0\n",
      "~ 48 117 51 179 0\n",
      "~ 227 117 230 179 0\n",
      "~ 174 117 177 179 0\n",
      "~ 353 117 356 179 0\n",
      "~ 432 114 435 176 0\n",
      "~ 578 117 581 179 0\n",
      "~ 705 117 708 179 0\n",
      "~ 49 110 707 125 0\n",
      "~ 112 61 113 99 0\n",
      "~ 32 59 195 64 0\n",
      "~ 484 95 656 101 0\n",
      "~ 496 80 497 98 0\n",
      "~ 496 79 644 82 0\n",
      "~ 643 61 644 99 0\n",
      "~ 562 59 725 64 0\n",
      "< 76 163 82 169 0\n",
      "< 82 163 88 169 0\n",
      "I 89 162 91 168 0\n",
      "n 93 162 98 168 0\n",
      "t 99 162 103 169 0\n",
      "e 104 162 110 168 0\n",
      "m 111 162 128 170 0\n",
      "9 129 162 140 169 0\n",
      "> 140 163 146 169 0\n",
      "< 255 163 261 169 0\n",
      "< 261 163 267 169 0\n",
      "I 268 162 270 168 0\n",
      "n 272 162 277 168 0\n",
      "t 278 162 282 169 0\n",
      "e 283 162 289 168 0\n",
      "m 290 162 307 170 0\n",
      "9 308 162 319 169 0\n",
      "> 319 163 325 169 0\n",
      "( 461 160 467 166 0\n",
      "( 467 160 473 166 0\n",
      ". 474 159 476 165 0\n",
      "n 478 159 483 165 0\n",
      ", 484 159 488 166 0\n",
      "e 489 159 495 165 0\n",
      "m 496 159 513 167 0\n",
      "9 514 159 525 166 0\n",
      ") 525 160 531 166 0\n",
      "< 607 163 613 169 0\n",
      "< 613 163 619 169 0\n",
      "I 620 162 622 168 0\n",
      "n 624 162 629 168 0\n",
      "t 630 162 634 169 0\n",
      "e 635 162 641 168 0\n",
      "m 642 162 659 170 0\n",
      "9 660 162 671 169 0\n",
      "> 671 163 677 169 0\n",
      "er 76 148 98 156 0\n",
      "n 98 148 105 156 0\n",
      "o 107 148 117 156 0\n",
      "r 118 148 121 154 0\n",
      "l 122 148 124 156 0\n",
      "s 125 148 131 156 0\n",
      "w 132 148 140 154 0\n",
      "l 141 148 143 156 0\n",
      "l 144 148 148 156 0\n",
      "er 249 148 271 156 0\n",
      "n 271 148 278 156 0\n",
      "w 280 148 293 156 0\n",
      "m 294 148 302 154 0\n",
      "ﬁ 304 146 316 156 0\n",
      "w 317 148 325 154 0\n",
      "n 326 148 332 156 0\n",
      "H 446 145 452 153 0\n",
      "w 453 145 464 153 0\n",
      ", 464 148 468 149 0\n",
      "“ 468 145 475 153 0\n",
      "5 477 145 483 153 0\n",
      "u 484 145 489 151 0\n",
      "p 491 143 497 151 0\n",
      "m 498 145 512 151 0\n",
      "w 513 145 540 153 0\n",
      ". 541 145 543 153 0\n",
      ". 544 145 548 153 0\n",
      "er 602 148 624 156 0\n",
      "n 620 148 631 156 0\n",
      "M 634 148 642 156 0\n",
      "e 644 148 650 154 0\n",
      "a 651 148 656 154 0\n",
      "m 657 148 676 156 0\n",
      "u 677 148 679 156 0\n",
      "c 680 148 684 156 0\n",
      "er 606 45 628 53 0\n",
      "n 624 45 635 53 0\n",
      "M 638 45 646 53 0\n",
      "e 648 45 654 51 0\n",
      "a 655 45 660 51 0\n",
      "m 661 45 680 53 0\n",
      "H 71 45 77 53 0\n",
      "W 78 45 89 53 0\n",
      "’ 89 48 93 49 0\n",
      "A 93 45 100 53 0\n",
      "w 102 45 115 53 0\n",
      "n 116 45 121 51 0\n",
      "t 122 45 126 52 0\n",
      "r 127 45 130 51 0\n",
      "o 130 45 137 51 0\n",
      "s 138 45 146 53 0\n",
      "w 147 45 155 51 0\n",
      "~ 32 33 195 38 0\n",
      "~ 32 21 195 26 0\n",
      "~ 31 7 34 62 0\n",
      "~ 193 7 196 62 0\n",
      "~ 32 5 195 10 0\n",
      "~ 562 33 725 38 0\n",
      "~ 562 21 725 26 0\n",
      "~ 557 7 566 274 0\n",
      "~ 723 7 726 62 0\n",
      "~ 562 5 725 10 0\n",
      "st 739 69 748 87 0\n",
      "d 739 89 748 94 0\n",
      "S 740 98 748 103 0\n",
      "a 742 105 748 109 0\n",
      "v 742 111 748 114 0\n",
      "v 742 115 748 121 0\n",
      "x 742 122 748 123 0\n",
      "c 742 126 748 131 0\n",
      "z 742 132 748 136 0\n",
      "S 740 140 748 145 0\n",
      "n 742 147 748 152 0\n",
      "a 742 153 748 158 0\n",
      "p 742 160 750 165 0\n",
      ": 742 167 748 171 0\n",
      "\n"
     ]
    }
   ],
   "source": [
    "# If you don't have tesseract executable in your PATH, include the following:\n",
    "pytesseract.pytesseract.tesseract_cmd = r'tesseract'\n",
    "# Example of adding any additional options.\n",
    "custom_oem_psm_config = r'--oem 1 --psm 7'\n",
    "\n",
    "# Simple image to string\n",
    "# print(pytesseract.image_to_string(image, config=custom_oem_psm_config))\n",
    "print(pytesseract.image_to_boxes(Image.open('image10.png'), config=custom_oem_psm_config))\n"
   ]
  },
  {
   "cell_type": "code",
   "execution_count": null,
   "metadata": {},
   "outputs": [],
   "source": []
  }
 ],
 "metadata": {
  "kernelspec": {
   "display_name": "Python 3",
   "language": "python",
   "name": "python3"
  },
  "language_info": {
   "codemirror_mode": {
    "name": "ipython",
    "version": 3
   },
   "file_extension": ".py",
   "mimetype": "text/x-python",
   "name": "python",
   "nbconvert_exporter": "python",
   "pygments_lexer": "ipython3",
   "version": "3.7.3"
  }
 },
 "nbformat": 4,
 "nbformat_minor": 4
}
